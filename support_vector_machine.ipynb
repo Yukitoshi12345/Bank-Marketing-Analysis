{
 "cells": [
  {
   "cell_type": "code",
   "execution_count": 1,
   "metadata": {},
   "outputs": [],
   "source": [
    "## import modules\n",
    "import numpy as np \n",
    "import pandas as pd \n",
    "import matplotlib.pyplot as plt\n",
    "import seaborn as sns\n",
    "import datetime as dt\n",
    "\n",
    "# library for SVM and evaluation metrics\n",
    "from sklearn.svm import SVC\n",
    "from sklearn.model_selection import GridSearchCV\n",
    "from sklearn.metrics import classification_report\n",
    "from sklearn.metrics import roc_curve, roc_auc_score, accuracy_score, precision_score, recall_score\n",
    "from sklearn.metrics import confusion_matrix, ConfusionMatrixDisplay"
   ]
  },
  {
   "cell_type": "code",
   "execution_count": 2,
   "metadata": {},
   "outputs": [
    {
     "data": {
      "text/html": [
       "<div>\n",
       "<style scoped>\n",
       "    .dataframe tbody tr th:only-of-type {\n",
       "        vertical-align: middle;\n",
       "    }\n",
       "\n",
       "    .dataframe tbody tr th {\n",
       "        vertical-align: top;\n",
       "    }\n",
       "\n",
       "    .dataframe thead th {\n",
       "        text-align: right;\n",
       "    }\n",
       "</style>\n",
       "<table border=\"1\" class=\"dataframe\">\n",
       "  <thead>\n",
       "    <tr style=\"text-align: right;\">\n",
       "      <th></th>\n",
       "      <th>age</th>\n",
       "      <th>job</th>\n",
       "      <th>marital</th>\n",
       "      <th>education</th>\n",
       "      <th>default</th>\n",
       "      <th>housing</th>\n",
       "      <th>loan</th>\n",
       "      <th>contact</th>\n",
       "      <th>month</th>\n",
       "      <th>day_of_week</th>\n",
       "      <th>...</th>\n",
       "      <th>campaign</th>\n",
       "      <th>pdays</th>\n",
       "      <th>previous</th>\n",
       "      <th>poutcome</th>\n",
       "      <th>emp.var.rate</th>\n",
       "      <th>cons.price.idx</th>\n",
       "      <th>cons.conf.idx</th>\n",
       "      <th>euribor3m</th>\n",
       "      <th>nr.employed</th>\n",
       "      <th>y</th>\n",
       "    </tr>\n",
       "  </thead>\n",
       "  <tbody>\n",
       "    <tr>\n",
       "      <th>0</th>\n",
       "      <td>56</td>\n",
       "      <td>housemaid</td>\n",
       "      <td>married</td>\n",
       "      <td>basic.4y</td>\n",
       "      <td>no</td>\n",
       "      <td>no</td>\n",
       "      <td>no</td>\n",
       "      <td>telephone</td>\n",
       "      <td>may</td>\n",
       "      <td>mon</td>\n",
       "      <td>...</td>\n",
       "      <td>1</td>\n",
       "      <td>999</td>\n",
       "      <td>0</td>\n",
       "      <td>nonexistent</td>\n",
       "      <td>1.1</td>\n",
       "      <td>93.994</td>\n",
       "      <td>-36.4</td>\n",
       "      <td>4.857</td>\n",
       "      <td>5191.0</td>\n",
       "      <td>no</td>\n",
       "    </tr>\n",
       "    <tr>\n",
       "      <th>1</th>\n",
       "      <td>57</td>\n",
       "      <td>services</td>\n",
       "      <td>married</td>\n",
       "      <td>high.school</td>\n",
       "      <td>unknown</td>\n",
       "      <td>no</td>\n",
       "      <td>no</td>\n",
       "      <td>telephone</td>\n",
       "      <td>may</td>\n",
       "      <td>mon</td>\n",
       "      <td>...</td>\n",
       "      <td>1</td>\n",
       "      <td>999</td>\n",
       "      <td>0</td>\n",
       "      <td>nonexistent</td>\n",
       "      <td>1.1</td>\n",
       "      <td>93.994</td>\n",
       "      <td>-36.4</td>\n",
       "      <td>4.857</td>\n",
       "      <td>5191.0</td>\n",
       "      <td>no</td>\n",
       "    </tr>\n",
       "    <tr>\n",
       "      <th>2</th>\n",
       "      <td>37</td>\n",
       "      <td>services</td>\n",
       "      <td>married</td>\n",
       "      <td>high.school</td>\n",
       "      <td>no</td>\n",
       "      <td>yes</td>\n",
       "      <td>no</td>\n",
       "      <td>telephone</td>\n",
       "      <td>may</td>\n",
       "      <td>mon</td>\n",
       "      <td>...</td>\n",
       "      <td>1</td>\n",
       "      <td>999</td>\n",
       "      <td>0</td>\n",
       "      <td>nonexistent</td>\n",
       "      <td>1.1</td>\n",
       "      <td>93.994</td>\n",
       "      <td>-36.4</td>\n",
       "      <td>4.857</td>\n",
       "      <td>5191.0</td>\n",
       "      <td>no</td>\n",
       "    </tr>\n",
       "    <tr>\n",
       "      <th>3</th>\n",
       "      <td>40</td>\n",
       "      <td>admin.</td>\n",
       "      <td>married</td>\n",
       "      <td>basic.6y</td>\n",
       "      <td>no</td>\n",
       "      <td>no</td>\n",
       "      <td>no</td>\n",
       "      <td>telephone</td>\n",
       "      <td>may</td>\n",
       "      <td>mon</td>\n",
       "      <td>...</td>\n",
       "      <td>1</td>\n",
       "      <td>999</td>\n",
       "      <td>0</td>\n",
       "      <td>nonexistent</td>\n",
       "      <td>1.1</td>\n",
       "      <td>93.994</td>\n",
       "      <td>-36.4</td>\n",
       "      <td>4.857</td>\n",
       "      <td>5191.0</td>\n",
       "      <td>no</td>\n",
       "    </tr>\n",
       "    <tr>\n",
       "      <th>4</th>\n",
       "      <td>56</td>\n",
       "      <td>services</td>\n",
       "      <td>married</td>\n",
       "      <td>high.school</td>\n",
       "      <td>no</td>\n",
       "      <td>no</td>\n",
       "      <td>yes</td>\n",
       "      <td>telephone</td>\n",
       "      <td>may</td>\n",
       "      <td>mon</td>\n",
       "      <td>...</td>\n",
       "      <td>1</td>\n",
       "      <td>999</td>\n",
       "      <td>0</td>\n",
       "      <td>nonexistent</td>\n",
       "      <td>1.1</td>\n",
       "      <td>93.994</td>\n",
       "      <td>-36.4</td>\n",
       "      <td>4.857</td>\n",
       "      <td>5191.0</td>\n",
       "      <td>no</td>\n",
       "    </tr>\n",
       "  </tbody>\n",
       "</table>\n",
       "<p>5 rows × 21 columns</p>\n",
       "</div>"
      ],
      "text/plain": [
       "   age        job  marital    education  default housing loan    contact  \\\n",
       "0   56  housemaid  married     basic.4y       no      no   no  telephone   \n",
       "1   57   services  married  high.school  unknown      no   no  telephone   \n",
       "2   37   services  married  high.school       no     yes   no  telephone   \n",
       "3   40     admin.  married     basic.6y       no      no   no  telephone   \n",
       "4   56   services  married  high.school       no      no  yes  telephone   \n",
       "\n",
       "  month day_of_week  ...  campaign  pdays  previous     poutcome emp.var.rate  \\\n",
       "0   may         mon  ...         1    999         0  nonexistent          1.1   \n",
       "1   may         mon  ...         1    999         0  nonexistent          1.1   \n",
       "2   may         mon  ...         1    999         0  nonexistent          1.1   \n",
       "3   may         mon  ...         1    999         0  nonexistent          1.1   \n",
       "4   may         mon  ...         1    999         0  nonexistent          1.1   \n",
       "\n",
       "   cons.price.idx  cons.conf.idx  euribor3m  nr.employed   y  \n",
       "0          93.994          -36.4      4.857       5191.0  no  \n",
       "1          93.994          -36.4      4.857       5191.0  no  \n",
       "2          93.994          -36.4      4.857       5191.0  no  \n",
       "3          93.994          -36.4      4.857       5191.0  no  \n",
       "4          93.994          -36.4      4.857       5191.0  no  \n",
       "\n",
       "[5 rows x 21 columns]"
      ]
     },
     "execution_count": 2,
     "metadata": {},
     "output_type": "execute_result"
    }
   ],
   "source": [
    "## view first five rows\n",
    "df = pd.read_csv('bank-additional-full.csv')\n",
    "df.head(5)"
   ]
  },
  {
   "cell_type": "code",
   "execution_count": 3,
   "metadata": {},
   "outputs": [],
   "source": [
    "df.loc[(df.y == 'yes'),'y'] = 1\n",
    "df.loc[(df.y == 'no'),'y']= 0\n",
    "df['y'] = df['y'].astype(int)\n",
    "\n",
    "# Split target data \n",
    "bank_data = df.iloc[:, :-1]\n",
    "bank_y = df['y'].astype(int)"
   ]
  },
  {
   "cell_type": "code",
   "execution_count": 4,
   "metadata": {},
   "outputs": [
    {
     "name": "stdout",
     "output_type": "stream",
     "text": [
      "Index(['job', 'marital', 'education', 'default', 'housing', 'loan', 'contact',\n",
      "       'month', 'day_of_week', 'poutcome'],\n",
      "      dtype='object')\n"
     ]
    }
   ],
   "source": [
    "# Transform catogorical data using labelencoder\n",
    "# then scale all data to improve processing time\n",
    "from sklearn.preprocessing import LabelEncoder,scale\n",
    "\n",
    "bank_data_obj = bank_data.select_dtypes(include=['object']).columns\n",
    "print(bank_data_obj)\n",
    "\n",
    "le = LabelEncoder()\n",
    " \n",
    "for i in bank_data_obj:\n",
    "    bank_data[i] = le.fit_transform(bank_data[i].astype(str))\n",
    "    \n",
    "bank_data = scale(bank_data)"
   ]
  },
  {
   "cell_type": "markdown",
   "metadata": {},
   "source": [
    "## Model Fit"
   ]
  },
  {
   "cell_type": "code",
   "execution_count": 5,
   "metadata": {},
   "outputs": [],
   "source": [
    "# Split into train and test sets\n",
    "from sklearn.model_selection import train_test_split\n",
    "\n",
    "X_train, X_test, Y_train, Y_test = train_test_split(bank_data, bank_y, test_size=0.2,\n",
    "                                                    random_state=7,stratify = bank_y)"
   ]
  },
  {
   "cell_type": "code",
   "execution_count": 6,
   "metadata": {},
   "outputs": [],
   "source": [
    "# function for output evaluation metrics\n",
    "def test_output(clf,X_test,Y_test):\n",
    "    predictions = clf.predict(X_test)\n",
    "    print('Model performance:')\n",
    "    \n",
    "    print('Classfication Report:')\n",
    "    print(classification_report(Y_test, predictions))\n",
    "    \n",
    "    print('Accuracy score: ',accuracy_score(Y_test,predictions))\n",
    "    print('AUC: ',roc_auc_score(Y_test,predictions))\n",
    "\n",
    "    print('Confusion Matrix:')\n",
    "    cm = confusion_matrix(Y_test,predictions,labels=clf.classes_)\n",
    "    disp = ConfusionMatrixDisplay(confusion_matrix=cm,\n",
    "                                  display_labels=clf.classes_)\n",
    "    disp.plot()\n",
    "    plt.show()"
   ]
  },
  {
   "cell_type": "code",
   "execution_count": 7,
   "metadata": {},
   "outputs": [
    {
     "name": "stdout",
     "output_type": "stream",
     "text": [
      "Model performance:\n",
      "Classfication Report:\n",
      "              precision    recall  f1-score   support\n",
      "\n",
      "           0       0.92      0.98      0.95      7310\n",
      "           1       0.69      0.37      0.48       928\n",
      "\n",
      "    accuracy                           0.91      8238\n",
      "   macro avg       0.81      0.67      0.71      8238\n",
      "weighted avg       0.90      0.91      0.90      8238\n",
      "\n",
      "Accuracy score:  0.9098082058752124\n",
      "AUC:  0.6730581336383792\n",
      "Confusion Matrix:\n"
     ]
    },
    {
     "data": {
      "image/png": "[encoded data removed]",
      "text/plain": [
       "<Figure size 640x480 with 2 Axes>"
      ]
     },
     "metadata": {},
     "output_type": "display_data"
    }
   ],
   "source": [
    "# Fit SVM on the train set\n",
    "svc = SVC(cache_size = 7000)\n",
    "svc.fit(X_train, Y_train)\n",
    "\n",
    "test_output(svc, X_test, Y_test)"
   ]
  },
  {
   "cell_type": "code",
   "execution_count": 8,
   "metadata": {},
   "outputs": [
    {
     "name": "stdout",
     "output_type": "stream",
     "text": [
      "Model performance:\n",
      "Classfication Report:\n",
      "              precision    recall  f1-score   support\n",
      "\n",
      "           0       0.93      0.98      0.96     29238\n",
      "           1       0.75      0.43      0.55      3712\n",
      "\n",
      "    accuracy                           0.92     32950\n",
      "   macro avg       0.84      0.71      0.75     32950\n",
      "weighted avg       0.91      0.92      0.91     32950\n",
      "\n",
      "Accuracy score:  0.9199393019726859\n",
      "AUC:  0.7062869035867353\n",
      "Confusion Matrix:\n"
     ]
    },
    {
     "data": {
      "image/png": "[encoded data removed]",
      "text/plain": [
       "<Figure size 640x480 with 2 Axes>"
      ]
     },
     "metadata": {},
     "output_type": "display_data"
    }
   ],
   "source": [
    "test_output(svc, X_train, Y_train)"
   ]
  },
  {
   "cell_type": "markdown",
   "metadata": {},
   "source": [
    "## Hyperparameter Tuning"
   ]
  },
  {
   "cell_type": "code",
   "execution_count": 9,
   "metadata": {},
   "outputs": [],
   "source": [
    "# due to the slow processing time\n",
    "# splitting the \"train-set\" into new \"train-set\" and \"validation-set\"\n",
    "X_train2, X_val, Y_train2, Y_val = train_test_split(X_train, Y_train, test_size=0.5, random_state=7)"
   ]
  },
  {
   "cell_type": "code",
   "execution_count": 10,
   "metadata": {},
   "outputs": [
    {
     "name": "stdout",
     "output_type": "stream",
     "text": [
      "Fitting 5 folds for each of 9 candidates, totalling 45 fits\n",
      "[CV] END .......................................C=1, gamma=1; total time= 1.1min\n",
      "[CV] END .......................................C=1, gamma=1; total time= 1.1min\n",
      "[CV] END .......................................C=1, gamma=1; total time= 1.1min\n",
      "[CV] END .......................................C=1, gamma=1; total time= 1.0min\n",
      "[CV] END .......................................C=1, gamma=1; total time= 1.1min\n",
      "[CV] END .....................................C=1, gamma=0.1; total time=  13.4s\n",
      "[CV] END .....................................C=1, gamma=0.1; total time=  14.7s\n",
      "[CV] END .....................................C=1, gamma=0.1; total time=  13.6s\n",
      "[CV] END .....................................C=1, gamma=0.1; total time=  13.9s\n",
      "[CV] END .....................................C=1, gamma=0.1; total time=  14.1s\n",
      "[CV] END ....................................C=1, gamma=0.01; total time=   7.8s\n",
      "[CV] END ....................................C=1, gamma=0.01; total time=   7.9s\n",
      "[CV] END ....................................C=1, gamma=0.01; total time=   7.9s\n",
      "[CV] END ....................................C=1, gamma=0.01; total time=   8.0s\n",
      "[CV] END ....................................C=1, gamma=0.01; total time=   8.0s\n",
      "[CV] END ......................................C=10, gamma=1; total time= 1.2min\n",
      "[CV] END ......................................C=10, gamma=1; total time= 1.2min\n",
      "[CV] END ......................................C=10, gamma=1; total time= 1.2min\n",
      "[CV] END ......................................C=10, gamma=1; total time= 1.2min\n",
      "[CV] END ......................................C=10, gamma=1; total time= 1.2min\n",
      "[CV] END ....................................C=10, gamma=0.1; total time=  28.5s\n",
      "[CV] END ....................................C=10, gamma=0.1; total time=  30.0s\n",
      "[CV] END ....................................C=10, gamma=0.1; total time=  30.5s\n",
      "[CV] END ....................................C=10, gamma=0.1; total time=  30.4s\n",
      "[CV] END ....................................C=10, gamma=0.1; total time=  30.2s\n",
      "[CV] END ...................................C=10, gamma=0.01; total time=  12.6s\n",
      "[CV] END ...................................C=10, gamma=0.01; total time=  12.5s\n",
      "[CV] END ...................................C=10, gamma=0.01; total time=  12.1s\n",
      "[CV] END ...................................C=10, gamma=0.01; total time=  12.9s\n",
      "[CV] END ...................................C=10, gamma=0.01; total time=  12.3s\n",
      "[CV] END .....................................C=100, gamma=1; total time= 1.2min\n",
      "[CV] END .....................................C=100, gamma=1; total time= 1.2min\n",
      "[CV] END .....................................C=100, gamma=1; total time= 1.2min\n",
      "[CV] END .....................................C=100, gamma=1; total time= 1.2min\n",
      "[CV] END .....................................C=100, gamma=1; total time= 1.2min\n",
      "[CV] END ...................................C=100, gamma=0.1; total time=  51.1s\n",
      "[CV] END ...................................C=100, gamma=0.1; total time=  52.8s\n",
      "[CV] END ...................................C=100, gamma=0.1; total time=  54.1s\n",
      "[CV] END ...................................C=100, gamma=0.1; total time=  49.2s\n",
      "[CV] END ...................................C=100, gamma=0.1; total time=  52.6s\n",
      "[CV] END ..................................C=100, gamma=0.01; total time=  49.5s\n",
      "[CV] END ..................................C=100, gamma=0.01; total time=  49.4s\n",
      "[CV] END ..................................C=100, gamma=0.01; total time=  50.1s\n",
      "[CV] END ..................................C=100, gamma=0.01; total time=  48.1s\n",
      "[CV] END ..................................C=100, gamma=0.01; total time=  49.6s\n",
      "\n",
      "SVM best params:\n",
      " {'C': 1, 'gamma': 0.1}\n",
      "SVC(C=1, cache_size=7000, gamma=0.1)\n"
     ]
    }
   ],
   "source": [
    "# Hyper parameter tuning\n",
    "param_grid = { 'C': [1, 10, 100],\n",
    "              'gamma': [1, 0.1, 0.01]}\n",
    "\n",
    "gs_svm = GridSearchCV(svc, param_grid, verbose=2)\n",
    "gs_svm.fit(X_train2, Y_train2)\n",
    "\n",
    "print('\\nSVM best params:\\n', gs_svm.best_params_)\n",
    "print(gs_svm.best_estimator_)"
   ]
  },
  {
   "cell_type": "code",
   "execution_count": null,
   "metadata": {},
   "outputs": [],
   "source": []
  }
 ],
 "metadata": {
  "kernelspec": {
   "display_name": "base",
   "language": "python",
   "name": "python3"
  },
  "language_info": {
   "codemirror_mode": {
    "name": "ipython",
    "version": 3
   },
   "file_extension": ".py",
   "mimetype": "text/x-python",
   "name": "python",
   "nbconvert_exporter": "python",
   "pygments_lexer": "ipython3",
   "version": "3.11.9"
  }
 },
 "nbformat": 4,
 "nbformat_minor": 2
}
